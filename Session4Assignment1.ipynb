{
 "cells": [
  {
   "cell_type": "code",
   "execution_count": 11,
   "metadata": {},
   "outputs": [
    {
     "name": "stdout",
     "output_type": "stream",
     "text": [
      "Enter AB side in a triangle(in cm) 4\n",
      "Enter BC side in a triangle(in cm) 5\n",
      "Enter AC side in a triangle(in cm) 3\n",
      "Tringle Sides are (in cm) are :  4.0 5.0 3.0\n",
      "SemiPerimiter (in cm) is:  6.0\n",
      "Area of Triangle (in sqare cm) is  6.0\n"
     ]
    }
   ],
   "source": [
    "#1.1 Write a Python Program(with class concepts) to find the area of the triangle using the below\n",
    "#formula. area = (s*(s-a)*(s-b)*(s-c)) ** 0.5\n",
    "#Function to take the length of the sides of triangle from user should be defined in the parent\n",
    "#class and function to calculate the area should be defined in subclass.\n",
    "\n",
    "#Parent Class which recive and initialize all the sides of the triangle\n",
    "class parentTriangle():\n",
    "        #Recive Lengh of Side and initilize \n",
    "        def __init__(self, SideA, SideB,SideC):\n",
    "            self.SideA=SideA\n",
    "            self.SideB=SideB\n",
    "            self.SideC=SideC\n",
    "\n",
    "        #Calculate SemiPerimiter\n",
    "        def calcSemiPerimeter(self):\n",
    "            self.semiperimeter= (self.SideA+self.SideB+self.SideC)/2\n",
    "        \n",
    "#Sub Class to inherits Parent class and to caluclate area\n",
    "class calcArea (parentTriangle):\n",
    "    # Function to Calculate Area of Tringle\n",
    "    def funcCalcArea(self):\n",
    "        return ((self.semiperimeter*(self.semiperimeter-self.SideA)*(self.semiperimeter-self.SideB)*(self.semiperimeter-self.SideC)) ** 0.5)\n",
    "try:\n",
    "    #Get the side of triangle from the user\n",
    "    ab=float(input('Enter AB side in a triangle(in cm) '))\n",
    "    bc=float(input('Enter BC side in a triangle(in cm) '))\n",
    "    ac=float(input('Enter AC side in a triangle(in cm) '))\n",
    "\n",
    "    #Initialize subclass to calculate\n",
    "    AreaTringle =calcArea(ab,bc,ac)\n",
    "    print ('Tringle Sides are (in cm) are : ',AreaTringle.SideA ,AreaTringle.SideB,AreaTringle.SideC)\n",
    "\n",
    "    #Calculate Semiperimeter\n",
    "    AreaTringle.calcSemiPerimeter()\n",
    "    print('SemiPerimiter (in cm) is: ',AreaTringle.semiperimeter)\n",
    "\n",
    "    #Calculate Area\n",
    "    Area=AreaTringle.funcCalcArea()\n",
    "    print('Area of Triangle (in sqare cm) is ', Area)\n",
    "except ValueError as e:\n",
    "    print('Enter only numeric values: Please enter valid number ')\n",
    "except Exception as e:\n",
    "    print('Other Error.  ',e)\n",
    "\n"
   ]
  },
  {
   "cell_type": "code",
   "execution_count": 33,
   "metadata": {},
   "outputs": [
    {
     "name": "stdout",
     "output_type": "stream",
     "text": [
      "Enter list of words: Narasimha Rao Vemula\n",
      "Enter the size of longest word to filter: 3\n",
      "List of words which length is longer than 3 ['Narasimha', 'Vemula']\n"
     ]
    }
   ],
   "source": [
    "#1.2 Write a function filter_long_words() that takes a list of words and an integer n and returns\n",
    "#the list of words that are longer than n.\n",
    "\n",
    "#function to take a list of words and an integer and return the list of words that are longer than passed integer\n",
    "def filter_long_words(listOfWords,num):\n",
    "    \n",
    "    #Declare a veriable to store longer words which are longer than passed integer \n",
    "    list_words=listOfWords.split(\" \")\n",
    "    list1=list()\n",
    "    \n",
    "    #go thorugh loop and compare the length of word with passed integer\n",
    "    for str in list_words:\n",
    "        if len(str)>num:\n",
    "           #store word which are longer than passed integer\n",
    "           list1.append(str)\n",
    "           #retrun the list of word which are longer than passed integer \n",
    "    \n",
    "    return list1\n",
    "    \n",
    "#Generate the List of world and integer number\n",
    "listOfword=input(\"Enter list of words: \")\n",
    "\n",
    "#list('There are many animals in the forest which are harbivours as well carnivous'.split(' '))\n",
    "len_word=int(input(\"Enter the size of longest word to filter: \"))\n",
    "\n",
    "\n",
    "#Call the function by passing list of words and an length of word\n",
    "list2=filter_long_words(listOfword,len_word)\n",
    "print ('List of words which length is longer than '+str(len_word),list2)\n",
    "\n"
   ]
  },
  {
   "cell_type": "code",
   "execution_count": 36,
   "metadata": {},
   "outputs": [
    {
     "name": "stdout",
     "output_type": "stream",
     "text": [
      "Enter List of Word with comma separater : Narasimha,Rao,Vemula\n",
      "Words entered by User:  ['Narasimha', 'Rao', 'Vemula']\n",
      "Length of List of words:  [9, 3, 6]\n"
     ]
    }
   ],
   "source": [
    "#2.1 Write a Python program using function concept that maps list of words into a list of integers\n",
    "#representing the lengths of the corresponding words .\n",
    "#Hint: If a list [ ab,cde,erty] is passed on to the python function output should come as [2,3,4]\n",
    "#Here 2,3 and 4 are the lengths of the words in the list.\n",
    "\n",
    "#Function to recive list of word and return the lengh of corrosponding world\n",
    "def returnLenOfWord(listOfword):\n",
    "    #delclare a list to store length of word\n",
    "    lenghOfWorld=[]\n",
    "    #loop through list of word and find out lenght of each word.\n",
    "    for str in listOfword:\n",
    "        lenghOfWorld.append(len(str))\n",
    "    #return the lenght of corrosponding word.\n",
    "    return lenghOfWorld\n",
    "\n",
    "#Take list of Word from user and print\n",
    "ListOfWord=list(input('Enter List of Word with comma separater : ').split(','))\n",
    "print('Words entered by User: ',ListOfWord)\n",
    "\n",
    "#call passing List of word and print lengh corrosping length\n",
    "print('Length of List of words: ',returnLenOfWord(ListOfWord))"
   ]
  },
  {
   "cell_type": "code",
   "execution_count": 40,
   "metadata": {},
   "outputs": [
    {
     "name": "stdout",
     "output_type": "stream",
     "text": [
      "Enter a Character: T\n",
      "Passed character is : T\n",
      "Is Passed character Vowel:  False\n"
     ]
    }
   ],
   "source": [
    "#2.2 Write a Python function which takes a character (i.e. a string of length 1) and returns True if\n",
    "#it is a vowel, False otherwise.\n",
    "\n",
    "#define a function to take char value and find out vowel or not\n",
    "def isvowel(chr):\n",
    "    #Print passed Value\n",
    "    print('Passed character is :', chr)\n",
    "    \n",
    "    #Handle runtime exceptions\n",
    "    try:\n",
    "        #compare passed value is not equal to 1 character or any number or special charceter or valid charcter\n",
    "        if len(chr)!=1:\n",
    "            print('Please enter valid One character ')\n",
    "            return \"Invalid Character\"\n",
    "        elif chr.upper() not in 'ABCDEFGHIJKLMNOPQRSTUVWXYZ':\n",
    "            print('Please enter valid One charcter ')\n",
    "            return \"Invalid Character\"\n",
    "        else:\n",
    "            if chr.upper() in 'AEIOU':\n",
    "                return True\n",
    "            else:\n",
    "                return False\n",
    "    #if any runtime error\n",
    "    except Exception as e:\n",
    "        print('Error ',e)\n",
    "\n",
    "#Ask user to enter a character, call isVowel Function and print whether passed character is vowel or not or invalid\n",
    "print('Is Passed character Vowel: ' ,isvowel(input('Enter a Character: ')))\n"
   ]
  },
  {
   "cell_type": "code",
   "execution_count": null,
   "metadata": {},
   "outputs": [],
   "source": []
  }
 ],
 "metadata": {
  "kernelspec": {
   "display_name": "Python 3",
   "language": "python",
   "name": "python3"
  },
  "language_info": {
   "codemirror_mode": {
    "name": "ipython",
    "version": 3
   },
   "file_extension": ".py",
   "mimetype": "text/x-python",
   "name": "python",
   "nbconvert_exporter": "python",
   "pygments_lexer": "ipython3",
   "version": "3.6.5"
  }
 },
 "nbformat": 4,
 "nbformat_minor": 2
}
