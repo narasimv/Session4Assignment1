{
 "cells": [
  {
   "cell_type": "code",
   "execution_count": 6,
   "metadata": {},
   "outputs": [
    {
     "name": "stdout",
     "output_type": "stream",
     "text": [
      "Enter AB side in a triangle(in cm) 4\n",
      "Enter BC side in a triangle(in cm) 5\n",
      "Enter AC side in a triangle(in cm) 3\n",
      "Tringle Sides are (in cm) are :  4.0 5.0 3.0\n",
      "SemiPerimiter (in cm) is:  6.0\n",
      "Area of Tringle (in sqare cm) is  6.0\n"
     ]
    }
   ],
   "source": [
    "#1.1 Write a Python Program(with class concepts) to find the area of the triangle using the below\n",
    "#formula. area = (s*(s-a)*(s-b)*(s-c)) ** 0.5\n",
    "#Function to take the length of the sides of triangle from user should be defined in the parent\n",
    "#class and function to calculate the area should be defined in subclass.\n",
    "\n",
    "#Parent Class which recive and initilize sides of the tringle\n",
    "import math\n",
    "class parentTringle():\n",
    "        #Recive Lengh of Side and initilize \n",
    "        def __init__(self, SideA, SideB,SideC):\n",
    "            self.SideA=SideA\n",
    "            self.SideB=SideB\n",
    "            self.SideC=SideC\n",
    "\n",
    "        #Calculate SemiPerimiter\n",
    "        def CalSemiPerimeter(self):\n",
    "            self.semiperimeter= (self.SideA+self.SideB+self.SideC)/2\n",
    "        \n",
    "#Sub Class to inherits ParentTringle and to caluclate area using a formula\n",
    "class ClassCalArea (parentTringle):\n",
    "    # Function to Calculate Area of Tringle\n",
    "    def CalArea(self):\n",
    "        #Calculate Area using  (s*(s-a)*(s-b)*(s-c)) ** 0.5\n",
    "        return ((self.semiperimeter*(self.semiperimeter-self.SideA)*(self.semiperimeter-self.SideB)*(self.semiperimeter-self.SideC)) ** 0.5)\n",
    "\n",
    "#Code block to create an object for abolve class, initilize tringle side and caluclate the area    \n",
    "try:\n",
    "    #Get the side of tringle from the user\n",
    "    ab=float(input('Enter AB side in a triangle(in cm) '))\n",
    "    bc=float(input('Enter BC side in a triangle(in cm) '))\n",
    "    ac=float(input('Enter AC side in a triangle(in cm) '))\n",
    "\n",
    "    #Initilize subclass to calcuate the Area of Tringle by passing sides\n",
    "    AreaTringle =ClassCalArea(ab,bc,ac)\n",
    "    print ('Tringle Sides are (in cm) are : ',AreaTringle.SideA ,AreaTringle.SideB,AreaTringle.SideC)\n",
    "\n",
    "    #Calculate Semiperimeter\n",
    "    AreaTringle.CalSemiPerimeter()\n",
    "    print('SemiPerimiter (in cm) is: ',AreaTringle.semiperimeter)\n",
    "\n",
    "    #Calculate Area\n",
    "    Area=AreaTringle.CalArea()\n",
    "    print('Area of Tringle (in sqare cm) is ', Area)\n",
    "except ValueError as e:\n",
    "    print('Entered value is not a number. Please enter valid number ')\n",
    "except Exception as e:\n",
    "    print('Other Error.  ',e)\n",
    "\n"
   ]
  },
  {
   "cell_type": "code",
   "execution_count": 7,
   "metadata": {},
   "outputs": [
    {
     "name": "stdout",
     "output_type": "stream",
     "text": [
      "List of world passed to the function : ['There', 'are', 'many', 'animals', 'in', 'the', 'forest', 'which', 'are', 'harbivours', 'as', 'well', 'carnivous']\n",
      "        \n",
      "List of word which length is longer than 7 ['harbivours', 'carnivous']\n"
     ]
    }
   ],
   "source": [
    "#1.2 Write a function filter_long_words() that takes a list of words and an integer n and returns\n",
    "#the list of words that are longer than n.\n",
    "\n",
    "#function to take a list of words and an integer and return the list of workds that are longer than passed integer\n",
    "def filter_long_words(listOfWords,num):\n",
    "    \n",
    "    #Declare a veriable to store longer words which are longer than passed integer \n",
    "    returnLongWorldList=list()\n",
    "    \n",
    "    #to handle excpetion\n",
    "    try:\n",
    "        #go thorugh loop and compare the length of word with passed integer\n",
    "        for str in listOfWords:\n",
    "            if len(str)>num:\n",
    "                #store word which are longer than passed integer\n",
    "                returnLongWorldList.append(str)\n",
    "        #retrun the list of word which are longer than passed integer \n",
    "        return returnLongWorldList\n",
    "    except Exception as e:\n",
    "        print('Error ',e)\n",
    "\n",
    "#Generate the List of world and integer number\n",
    "listOfworld=list('There are many animals in the forest which are harbivours as well carnivous'.split(' '))\n",
    "Integer=7\n",
    "\n",
    "#Print list of world passed\n",
    "print('List of world passed to the function :',listOfworld)\n",
    "print('        ')\n",
    "\n",
    "#Call filter_long_words by passing lis tof world and an integer and print\n",
    "longerWorlds=filter_long_words(listOfworld,Integer)\n",
    "print ('List of word which length is longer than '+str(Integer),longerWorlds)\n",
    "\n"
   ]
  },
  {
   "cell_type": "code",
   "execution_count": 3,
   "metadata": {},
   "outputs": [
    {
     "name": "stdout",
     "output_type": "stream",
     "text": [
      "List of world passed to the function : ['There', 'are', 'many', 'animals', 'in', 'the', 'forest', 'which', 'are', 'harbivours', 'as', 'well', 'carnivous']\n",
      "        \n",
      "List of word which length is longer than 7 ['harbivours', 'carnivous']\n"
     ]
    }
   ],
   "source": [
    "#Session 4 Assignment by Sreedhara Jagatagar Sreenivasa\n",
    "#1.2 Write a function filter_long_words() that takes a list of words and an integer n and returns\n",
    "#the list of words that are longer than n.\n",
    "\n",
    "#function to take a list of words and an integer and return the list of workds that are longer than passed integer\n",
    "def filter_long_words(listOfWords,num):\n",
    "    \n",
    "    #Declare a veriable to store longer words which are longer than passed integer \n",
    "    returnLongWorldList=list()\n",
    "    \n",
    "    #to handle excpetion\n",
    "    try:\n",
    "        #go thorugh loop and compare the length of word with passed integer\n",
    "        for str in listOfWords:\n",
    "            if len(str)>num:\n",
    "                #store word which are longer than passed integer\n",
    "                returnLongWorldList.append(str)\n",
    "        #retrun the list of word which are longer than passed integer \n",
    "        return returnLongWorldList\n",
    "    except Exception as e:\n",
    "        print('Error ',e)\n",
    "\n",
    "#Generate the List of world and integer number\n",
    "listOfworld=list('There are many animals in the forest which are harbivours as well carnivous'.split(' '))\n",
    "Integer=7\n",
    "\n",
    "#Print list of world passed\n",
    "print('List of world passed to the function :',listOfworld)\n",
    "print('        ')\n",
    "\n",
    "#Call filter_long_words by passing lis tof world and an integer and print\n",
    "longerWorlds=filter_long_words(listOfworld,Integer)\n",
    "print ('List of word which length is longer than '+str(Integer),longerWorlds)"
   ]
  },
  {
   "cell_type": "code",
   "execution_count": 4,
   "metadata": {},
   "outputs": [
    {
     "name": "stdout",
     "output_type": "stream",
     "text": [
      "Enter List of Word with comma separater : sdkfjas,asdlfjasf,sldfjasdf,\n",
      "List of world entered by User:  ['sdkfjas', 'asdlfjasf', 'sldfjasdf', '']\n",
      "Length of List of corroponding word:  [7, 9, 9, 0]\n"
     ]
    }
   ],
   "source": [
    "#2.1 Write a Python program using function concept that maps list of words into a list of integers\n",
    "#representing the lengths of the corresponding words .\n",
    "#Hint: If a list [ ab,cde,erty] is passed on to the python function output should come as [2,3,4]\n",
    "#Here 2,3 and 4 are the lengths of the words in the list.\n",
    "\n",
    "#Function to recive list of word and return the lengh of corrosponding world\n",
    "def returnLenOfWord(listOfword):\n",
    "    #delclare a list to store length of word\n",
    "    lenghOfWorld=[]\n",
    "    #loop through list of word and find out lenght of each word.\n",
    "    for str in listOfword:\n",
    "        lenghOfWorld.append(len(str))\n",
    "    #return the lenght of corrosponding word.\n",
    "    return lenghOfWorld\n",
    "\n",
    "#Take list of Word from user and print\n",
    "ListOfWord=list(input('Enter List of Word with comma separater : ').split(','))\n",
    "print('List of world entered by User: ',ListOfWord)\n",
    "\n",
    "#call passing List of word and print lengh corrosping length\n",
    "print('Length of List of corroponding word: ',returnLenOfWord(ListOfWord))"
   ]
  },
  {
   "cell_type": "code",
   "execution_count": 5,
   "metadata": {},
   "outputs": [
    {
     "name": "stdout",
     "output_type": "stream",
     "text": [
      "Enter a Character: easfasfjaslfkajsdf\n",
      "Passed character is : easfasfjaslfkajsdf\n",
      "Please enter valid One character \n",
      "Is Passed character Vowel:  Invalid Character\n",
      "          \n",
      "Enter a Character: a\n",
      "Passed character is : a\n",
      "Is Passed character Vowel:  True\n",
      "        \n",
      "Enter a Character: 3\n",
      "Passed character is : 3\n",
      "Please enter valid One charcter \n",
      "Is Passed character Vowel:  Invalid Character\n"
     ]
    }
   ],
   "source": [
    "#2.2 Write a Python function which takes a character (i.e. a string of length 1) and returns True if\n",
    "#it is a vowel, False otherwise.\n",
    "\n",
    "#define a function to take char value and find out vowel or not\n",
    "def isvowel(chr):\n",
    "    #Print passed Value\n",
    "    print('Passed character is :', chr)\n",
    "    \n",
    "    #Handle runtime exceptions\n",
    "    try:\n",
    "        #compare passed value is not equal to 1 character or any number or special charceter or valid charcter\n",
    "        if len(chr)!=1:\n",
    "            print('Please enter valid One character ')\n",
    "            return \"Invalid Character\"\n",
    "        elif chr.lower() not in 'abcdefghijklmnopqrstuvwxyz':\n",
    "            print('Please enter valid One charcter ')\n",
    "            return \"Invalid Character\"\n",
    "        else:\n",
    "            if chr.lower() in 'aeiou':\n",
    "                return True\n",
    "            else:\n",
    "                return False\n",
    "    #if any runtime error\n",
    "    except Exception as e:\n",
    "        print('Error ',e)\n",
    "\n",
    "#Ask user to enter a character, call isVowel Function and print whether passed character is vowel or not or invalid\n",
    "print('Is Passed character Vowel: ' ,isvowel(input('Enter a Character: ')))\n",
    "print('          ')\n",
    "print('Is Passed character Vowel: ' ,isvowel(input('Enter a Character: ')))\n",
    "print('        ')\n",
    "print('Is Passed character Vowel: ' ,isvowel(input('Enter a Character: ')))"
   ]
  },
  {
   "cell_type": "code",
   "execution_count": null,
   "metadata": {},
   "outputs": [],
   "source": []
  }
 ],
 "metadata": {
  "kernelspec": {
   "display_name": "Python 3",
   "language": "python",
   "name": "python3"
  },
  "language_info": {
   "codemirror_mode": {
    "name": "ipython",
    "version": 3
   },
   "file_extension": ".py",
   "mimetype": "text/x-python",
   "name": "python",
   "nbconvert_exporter": "python",
   "pygments_lexer": "ipython3",
   "version": "3.6.5"
  }
 },
 "nbformat": 4,
 "nbformat_minor": 2
}
